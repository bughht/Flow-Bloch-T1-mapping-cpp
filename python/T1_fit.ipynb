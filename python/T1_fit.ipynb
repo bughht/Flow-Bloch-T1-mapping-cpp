{
 "cells": [
  {
   "cell_type": "code",
   "execution_count": 1,
   "metadata": {},
   "outputs": [
    {
     "name": "stdout",
     "output_type": "stream",
     "text": [
      "('ID0_Speed_min0.0_max0.972972972972973', ('0', '0.0', '0.972972972972973'))\n",
      "('ID1_Speed_min1.0135135135135136_max1.9864864864864866', ('1', '1.0135135135135136', '1.9864864864864866'))\n",
      "('ID2_Speed_min2.027027027027027_max3.0', ('2', '2.027027027027027', '3.0'))\n"
     ]
    }
   ],
   "source": [
    "import os\n",
    "from tqdm import tqdm\n",
    "import numpy as np\n",
    "import matplotlib.pyplot as plt\n",
    "import re\n",
    "from scipy.ndimage import *\n",
    "from load_cppimg import load_img\n",
    "from MOLLI_fit import *\n",
    "import warnings\n",
    "%matplotlib inline\n",
    "warnings.filterwarnings(\"ignore\")\n",
    "# path = '../exp_result_slow_1500_5x5/'\n",
    "# path = '../exp_result_fast_1500_5x5_0_5/'\n",
    "path = '../exp_result_fast_longz/'\n",
    "# path = '../exp_result/'\n",
    "exp_folders = [f for f in os.listdir(path) if os.path.isdir(os.path.join(path, f))]\n",
    "exp_folders.sort(key=lambda x: int(re.search(r'\\d+', x).group()))\n",
    "# print(\"\\n\".join(exp_folders))\n",
    "exp_params=[]\n",
    "for folder in exp_folders:\n",
    "    folder_params= re.findall(\"ID(\\d+)_Speed_min(\\d+\\.\\d+)_max(\\d+\\.\\d+)\", folder)[0]\n",
    "    exp_params.append (folder_params)\n",
    "for fz in zip(exp_folders, exp_params):\n",
    "    print(fz)"
   ]
  },
  {
   "cell_type": "code",
   "execution_count": 2,
   "metadata": {},
   "outputs": [],
   "source": [
    "def MF_MAGIR_fit(path,show_MOLLI=False,show_T1=False):\n",
    "    MOLLI_readout_img=[]\n",
    "    MOLLI_readout_t = (np.array( [200, 1200, 2200, 3200, 4200, 300, 1300, 2300])) * 1e-3\n",
    "    for i in range(8):\n",
    "        MOLLI_readout_img.append(load_img(\n",
    "            path,i))\n",
    "    MOLLI_readout_img = np.asarray(MOLLI_readout_img)\n",
    "\n",
    "    # print(MOLLI_readout_img[:, 15, 15])\n",
    "    if show_MOLLI:\n",
    "        plt.figure(figsize=(18,8))\n",
    "        for i in range(8):\n",
    "            plt.subplot(2, 4, i+1)\n",
    "            plt.imshow(MOLLI_readout_img[i])\n",
    "            plt.colorbar(shrink=0.7)\n",
    "        plt.show()\n",
    "\n",
    "    T1_result = np.zeros(MOLLI_readout_img[0].shape)\n",
    "\n",
    "    for x, y in tqdm(np.ndindex(MOLLI_readout_img[0].shape)):\n",
    "        # T1_star, T1, A, B = MAGIR(\n",
    "        T1_star, T1, A, B = MF_MAGIR(\n",
    "            MOLLI_readout_t, MOLLI_readout_img[:, x, y])\n",
    "        T1_result[x, y] = T1\n",
    "    if show_T1:\n",
    "        plt.figure()\n",
    "        plt.imshow(T1_result)\n",
    "        plt.colorbar()\n",
    "        plt.clim(0,2)\n",
    "    return MOLLI_readout_img,T1_result"
   ]
  },
  {
   "cell_type": "code",
   "execution_count": 3,
   "metadata": {},
   "outputs": [],
   "source": [
    "def get_mask(k=64,x=4,y=4,radius=np.floor(18/256*64),dx=-1,dy=-2):\n",
    "    print(radius)\n",
    "    mask_list = []\n",
    "    # plt.figure(figsize=(10,10))\n",
    "    for i in range(x):\n",
    "        for j in range(y):\n",
    "            mask = np.ones((k,k),dtype=bool)\n",
    "            for m in range(k):\n",
    "                for n in range(k):\n",
    "                    if (m-(i+0.5)*k/x-dx)**2 + (n-(j+0.5)*k/y-dy)**2 < radius**2:\n",
    "                        mask[m,n] = 0\n",
    "            # plt.subplot(x,y,i*y+j+1)\n",
    "            # plt.imshow(mask)\n",
    "            mask_list.append(mask)\n",
    "    return mask_list"
   ]
  },
  {
   "cell_type": "code",
   "execution_count": 4,
   "metadata": {},
   "outputs": [],
   "source": [
    "# data=[]\n",
    "# for folder, params in zip(exp_folders, exp_params):\n",
    "#     print(folder,params)\n",
    "#     MOLLI_fit, T1_result = MF_MAGIR_fit(os.path.join(path,folder),show_MOLLI=False,show_T1=False)\n",
    "#     mask_list = get_mask()\n",
    "#     v_list = np.linspace(start=float(params[1]),stop=float(params[2]),num=16)\n",
    "#     T1_result_filter = median_filter(T1_result,size=(3,3))\n",
    "#     for v,mask in zip(v_list,mask_list):\n",
    "#         mx= np.ma.masked_array(T1_result, mask=mask)\n",
    "#         print(v,mx.max(),mx.mean())\n",
    "#         data.append([v,mx.mean()])\n",
    "\n",
    "# data = np.asarray(data)\n",
    "# np.save(\"EXP_Result_SLOW_T1_1500_data.npy\",data)"
   ]
  },
  {
   "cell_type": "code",
   "execution_count": 5,
   "metadata": {},
   "outputs": [],
   "source": [
    "# plt.plot(data[:,0],1000*data[:,1],'x')\n",
    "# plt.xlabel(\"Speed (mm/ms)\")\n",
    "# plt.ylabel(\"T1 (ms)\")"
   ]
  },
  {
   "cell_type": "code",
   "execution_count": 6,
   "metadata": {},
   "outputs": [
    {
     "name": "stdout",
     "output_type": "stream",
     "text": [
      "4.5\n",
      "ID0_Speed_min0.0_max0.972972972972973 ('0', '0.0', '0.972972972972973')\n",
      "ID1_Speed_min1.0135135135135136_max1.9864864864864866 ('1', '1.0135135135135136', '1.9864864864864866')\n",
      "ID2_Speed_min2.027027027027027_max3.0 ('2', '2.027027027027027', '3.0')\n",
      "(75,)\n",
      "(75, 8)\n"
     ]
    }
   ],
   "source": [
    "mask_list = get_mask(x=5,y=5,radius=18.0/256*64,dx=-1,dy=-1)\n",
    "v_molli_data = []\n",
    "v_data = []\n",
    "for folder, params in zip(exp_folders, exp_params):\n",
    "    print(folder,params)\n",
    "    MOLLI_readout_img=[]\n",
    "    for i in range(8):\n",
    "        MOLLI_readout_img.append(load_img(\n",
    "            os.path.join(path,folder),i))\n",
    "    MOLLI_readout_img = np.asarray(MOLLI_readout_img)\n",
    "    # v_list = np.linspace(start=float(params[1]),stop=float(params[2]),num=16)\n",
    "    v_list = np.linspace(start=float(params[1]),stop=float(params[2]),num=25)\n",
    "    v_data.append(v_list)\n",
    "    for v,mask in zip(v_list,mask_list):\n",
    "        MOLLI_img_list = []\n",
    "        # plt.figure()\n",
    "        for i in range(8):\n",
    "            msked_img = np.ma.masked_array(MOLLI_readout_img[i], mask=mask)\n",
    "            # plt.subplot(2,4,i+1)\n",
    "            # plt.imshow(msked_img)\n",
    "            # MOLLI_img_list.append(msked_img.sum()/mask.sum())\n",
    "            # MOLLI_img_list.append(msked_img.sum())\n",
    "            MOLLI_img_list.append(msked_img.mean())\n",
    "        v_molli_data.append(MOLLI_img_list)\n",
    "v_molli_data=np.asarray(v_molli_data)\n",
    "v_data = np.hstack(v_data)\n",
    "print(v_data.shape)\n",
    "print(v_molli_data.shape)\n",
    "# np.savez(\"EXP_masked_MOLLI_data_fast_1500_5x5_0_5.npz\",v_data=v_data,molli_data=v_molli_data)\n",
    "np.savez(\"EXP_masked_MOLLI_data_fast_longz.npz\",v_data=v_data,molli_data=v_molli_data)\n",
    "# np.savez(\"EXP_masked_MOLLI_data_1500_5x5.npz\",v_data=v_data,molli_data=v_molli_data)"
   ]
  },
  {
   "cell_type": "code",
   "execution_count": null,
   "metadata": {},
   "outputs": [],
   "source": []
  }
 ],
 "metadata": {
  "kernelspec": {
   "display_name": "NUMERICAL",
   "language": "python",
   "name": "python3"
  },
  "language_info": {
   "codemirror_mode": {
    "name": "ipython",
    "version": 3
   },
   "file_extension": ".py",
   "mimetype": "text/x-python",
   "name": "python",
   "nbconvert_exporter": "python",
   "pygments_lexer": "ipython3",
   "version": "3.7.16"
  }
 },
 "nbformat": 4,
 "nbformat_minor": 2
}
